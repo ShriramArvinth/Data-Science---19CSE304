{
  "nbformat": 4,
  "nbformat_minor": 0,
  "metadata": {
    "colab": {
      "provenance": []
    },
    "kernelspec": {
      "name": "python3",
      "display_name": "Python 3"
    },
    "language_info": {
      "name": "python"
    }
  },
  "cells": [
    {
      "cell_type": "code",
      "execution_count": null,
      "metadata": {
        "id": "LrQVTlggKILK"
      },
      "outputs": [],
      "source": [
        "import numpy as np\n",
        "import pandas as pd\n",
        "import matplotlib.pyplot as plt\n",
        "import numpy as np\n",
        "import scipy.stats as st"
      ]
    },
    {
      "cell_type": "code",
      "source": [
        "mu=46\n",
        "psd=4.2\n",
        "n=30\n",
        "alpha=0.05\n",
        "xbar=48.6"
      ],
      "metadata": {
        "id": "hRXZhxGI1lW_"
      },
      "execution_count": null,
      "outputs": []
    },
    {
      "cell_type": "code",
      "source": [
        "zvalue=(xbar-mu)/(psd/np.sqrt(n))\n",
        "zvalue"
      ],
      "metadata": {
        "colab": {
          "base_uri": "https://localhost:8080/"
        },
        "id": "EbuAvyrB2wA8",
        "outputId": "35e0ebb0-1536-40e4-ebb8-99ee0cd7fb42"
      },
      "execution_count": null,
      "outputs": [
        {
          "output_type": "execute_result",
          "data": {
            "text/plain": [
              "3.3906634512224585"
            ]
          },
          "metadata": {},
          "execution_count": 8
        }
      ]
    },
    {
      "cell_type": "code",
      "source": [
        "zcritical=abs(st.norm.ppf(alpha/2))\n",
        "zcritical"
      ],
      "metadata": {
        "colab": {
          "base_uri": "https://localhost:8080/"
        },
        "id": "6FZTbFCU3AUy",
        "outputId": "7fa08a4d-86c1-49d0-bc1d-073107996c68"
      },
      "execution_count": null,
      "outputs": [
        {
          "output_type": "execute_result",
          "data": {
            "text/plain": [
              "1.9599639845400545"
            ]
          },
          "metadata": {},
          "execution_count": 6
        }
      ]
    },
    {
      "cell_type": "code",
      "source": [
        "pval=(1-st.norm.cdf(abs(zvalue)))*2\n",
        "pval"
      ],
      "metadata": {
        "id": "ztVHsDQnCocD",
        "colab": {
          "base_uri": "https://localhost:8080/"
        },
        "outputId": "e2c51f24-a949-4037-e793-e5d410efc4bf"
      },
      "execution_count": null,
      "outputs": [
        {
          "output_type": "execute_result",
          "data": {
            "text/plain": [
              "0.0006972366404673913"
            ]
          },
          "metadata": {},
          "execution_count": 11
        }
      ]
    },
    {
      "cell_type": "code",
      "source": [
        "zcritical=abs(st.norm.ppf(alpha))\n",
        "zcritical"
      ],
      "metadata": {
        "colab": {
          "base_uri": "https://localhost:8080/"
        },
        "id": "NBC_pzFVwUme",
        "outputId": "09e4f0a4-b952-4c8b-b93b-20ec5fb705b8"
      },
      "execution_count": null,
      "outputs": [
        {
          "output_type": "execute_result",
          "data": {
            "text/plain": [
              "1.6448536269514729"
            ]
          },
          "metadata": {},
          "execution_count": 14
        }
      ]
    },
    {
      "cell_type": "code",
      "source": [
        "zcritical=abs(st.norm.ppf(alpha))"
      ],
      "metadata": {
        "id": "8aFcD57H030i"
      },
      "execution_count": null,
      "outputs": []
    },
    {
      "cell_type": "code",
      "source": [
        "if zvalue< zcritical:\n",
        "  print(\"Fail to Reject Null Hypothesis\")\n",
        "else:\n",
        "  print(\"Reject Null Hypothesis\")"
      ],
      "metadata": {
        "colab": {
          "base_uri": "https://localhost:8080/"
        },
        "id": "CpYNrhaY3qYA",
        "outputId": "20e479b0-15d0-41f0-acf9-09dd90e886bf"
      },
      "execution_count": null,
      "outputs": [
        {
          "output_type": "stream",
          "name": "stdout",
          "text": [
            "Reject Null Hypothesis\n"
          ]
        }
      ]
    },
    {
      "cell_type": "markdown",
      "source": [
        "z test using p values"
      ],
      "metadata": {
        "id": "-3ZZq4VY38UC"
      }
    },
    {
      "cell_type": "code",
      "source": [
        "mu=8\n",
        "n=32\n",
        "xbar=8.2\n",
        "sd=0.6\n",
        "alpha=0.05"
      ],
      "metadata": {
        "id": "CddRzO5938Gw"
      },
      "execution_count": null,
      "outputs": []
    },
    {
      "cell_type": "code",
      "source": [
        "zvalue=(xbar-mu)/(sd/np.sqrt(n))\n",
        "zvalue"
      ],
      "metadata": {
        "colab": {
          "base_uri": "https://localhost:8080/"
        },
        "id": "Uyk6RInG5D7d",
        "outputId": "8d750dc0-c398-41b4-af44-32ae2032d32c"
      },
      "execution_count": null,
      "outputs": [
        {
          "output_type": "execute_result",
          "data": {
            "text/plain": [
              "1.8856180831641203"
            ]
          },
          "metadata": {},
          "execution_count": 8
        }
      ]
    },
    {
      "cell_type": "code",
      "source": [
        "zcritical=abs(st.norm.ppf(alpha/2))\n",
        "print(zcritical)\n",
        "if zvalue< zcritical:\n",
        "  print(\"Fail to Reject Null Hypothesis\")\n",
        "else:\n",
        "  print(\"Reject Null Hypothesis\")"
      ],
      "metadata": {
        "colab": {
          "base_uri": "https://localhost:8080/"
        },
        "id": "Y8mbvt4y5Mse",
        "outputId": "bc0bdda7-3599-43e9-c704-e3a74e2520f1"
      },
      "execution_count": null,
      "outputs": [
        {
          "output_type": "stream",
          "name": "stdout",
          "text": [
            "1.9599639845400545\n",
            "Fail to Reject Null Hypothesis\n"
          ]
        }
      ]
    },
    {
      "cell_type": "markdown",
      "source": [
        "calculating p value"
      ],
      "metadata": {
        "id": "P7TINdL77ZGo"
      }
    },
    {
      "cell_type": "code",
      "source": [
        "pval=(1-st.norm.cdf(abs(zvalue)))*2\n",
        "print(pval)"
      ],
      "metadata": {
        "colab": {
          "base_uri": "https://localhost:8080/"
        },
        "id": "S5G0wl476wRg",
        "outputId": "6186432f-facf-420e-bb6c-184ddc10c60a"
      },
      "execution_count": null,
      "outputs": [
        {
          "output_type": "stream",
          "name": "stdout",
          "text": [
            "0.0593464387919207\n"
          ]
        }
      ]
    },
    {
      "cell_type": "code",
      "source": [
        "pval=(1-st.norm.cdf(abs(zvalue)))*2"
      ],
      "metadata": {
        "id": "HrelfvcQ0xMx"
      },
      "execution_count": null,
      "outputs": []
    },
    {
      "cell_type": "code",
      "source": [
        "if pval>alpha:\n",
        "  print(\"Fail to Reject Null hypothesis\")\n",
        "else:\n",
        "  print(\"Reject Null Hypothesis\")"
      ],
      "metadata": {
        "colab": {
          "base_uri": "https://localhost:8080/"
        },
        "id": "Pdi_l8vHwCoe",
        "outputId": "46dce8da-458e-4c44-f5c6-d030da1afaf1"
      },
      "execution_count": null,
      "outputs": [
        {
          "output_type": "stream",
          "name": "stdout",
          "text": [
            "Fail to Reject Null hypothesis\n"
          ]
        }
      ]
    },
    {
      "cell_type": "markdown",
      "source": [
        "T test"
      ],
      "metadata": {
        "id": "mZw9iN3fwfZx"
      }
    },
    {
      "cell_type": "code",
      "source": [
        "mu=16.3\n",
        "n=10\n",
        "dof=n-1\n",
        "xbar=17.7\n",
        "sd=1.8\n",
        "alpha=0.05"
      ],
      "metadata": {
        "id": "LKjeHARtwRg0"
      },
      "execution_count": null,
      "outputs": []
    },
    {
      "cell_type": "code",
      "source": [
        "tval=(xbar-mu)/(sd/np.sqrt(n))\n",
        "tval"
      ],
      "metadata": {
        "colab": {
          "base_uri": "https://localhost:8080/"
        },
        "id": "_3LfrQsFws4K",
        "outputId": "1a7858f2-028e-4ae1-bd89-e12a88797990"
      },
      "execution_count": null,
      "outputs": [
        {
          "output_type": "execute_result",
          "data": {
            "text/plain": [
              "2.4595492912420704"
            ]
          },
          "metadata": {},
          "execution_count": 27
        }
      ]
    },
    {
      "cell_type": "code",
      "source": [
        "tcritical=st.t.ppf(alpha/2,9)\n",
        "tcritical"
      ],
      "metadata": {
        "colab": {
          "base_uri": "https://localhost:8080/"
        },
        "id": "n2UQhCLbxJsU",
        "outputId": "b52b7011-5815-4d76-b6a7-df0b4ab7481e"
      },
      "execution_count": null,
      "outputs": [
        {
          "output_type": "execute_result",
          "data": {
            "text/plain": [
              "-2.262157162740992"
            ]
          },
          "metadata": {},
          "execution_count": 14
        }
      ]
    },
    {
      "cell_type": "code",
      "source": [
        "if tcritical<tval<(-1*tcritical):\n",
        "  print(\"Fail to reject Null hypothesis\")\n",
        "else:\n",
        "  print(\"Reject Null hypothsis\")"
      ],
      "metadata": {
        "colab": {
          "base_uri": "https://localhost:8080/"
        },
        "id": "tvhfe5Xcx0D9",
        "outputId": "4977a470-f468-4590-be25-4a39241b2145"
      },
      "execution_count": null,
      "outputs": [
        {
          "output_type": "stream",
          "name": "stdout",
          "text": [
            "Reject Null hypothsis\n"
          ]
        }
      ]
    },
    {
      "cell_type": "code",
      "source": [
        "pval=(1-st.norm.cdf(zvalue))*2"
      ],
      "metadata": {
        "id": "aUael1Jv0ncT"
      },
      "execution_count": null,
      "outputs": []
    },
    {
      "cell_type": "markdown",
      "source": [
        "ttest using p value"
      ],
      "metadata": {
        "id": "2CLHH6BK1l3J"
      }
    },
    {
      "cell_type": "code",
      "source": [
        "mu=36.7\n",
        "n=15\n",
        "dof=n-1\n",
        "sd=6\n",
        "xbar=40.6\n",
        "alpha=0.05"
      ],
      "metadata": {
        "id": "0U7BXY8V1k5h"
      },
      "execution_count": null,
      "outputs": []
    },
    {
      "cell_type": "code",
      "source": [
        "tval=(xbar-mu)/(sd/np.sqrt(n))\n",
        "tval"
      ],
      "metadata": {
        "colab": {
          "base_uri": "https://localhost:8080/"
        },
        "id": "sedduiLH2pdV",
        "outputId": "c068af1b-e229-461d-a1cd-e57cc5b866b8"
      },
      "execution_count": null,
      "outputs": [
        {
          "output_type": "execute_result",
          "data": {
            "text/plain": [
              "2.51743917503482"
            ]
          },
          "metadata": {},
          "execution_count": 40
        }
      ]
    },
    {
      "cell_type": "code",
      "source": [
        "pval=(1-st.t.cdf(abs(tval),dof))\n",
        "pval"
      ],
      "metadata": {
        "colab": {
          "base_uri": "https://localhost:8080/"
        },
        "id": "z6C2XCq34AZU",
        "outputId": "fce58101-372f-4f4a-e1c6-ff4354b98289"
      },
      "execution_count": null,
      "outputs": [
        {
          "output_type": "execute_result",
          "data": {
            "text/plain": [
              "0.012311189053656801"
            ]
          },
          "metadata": {},
          "execution_count": 41
        }
      ]
    },
    {
      "cell_type": "code",
      "source": [
        "if pval > alpha:\n",
        "  print(\"fail to reject null\")\n",
        "else:\n",
        "  print(\"reject null\")"
      ],
      "metadata": {
        "colab": {
          "base_uri": "https://localhost:8080/"
        },
        "id": "s28QHzJR5b38",
        "outputId": "17cb6929-bfa7-4e3d-a46e-85f934d7a2e6"
      },
      "execution_count": null,
      "outputs": [
        {
          "output_type": "stream",
          "name": "stdout",
          "text": [
            "reject null\n"
          ]
        }
      ]
    },
    {
      "cell_type": "markdown",
      "source": [],
      "metadata": {
        "id": "ylVosSEl78AT"
      }
    },
    {
      "cell_type": "markdown",
      "source": [],
      "metadata": {
        "id": "68bzMYTJA9Mb"
      }
    },
    {
      "cell_type": "code",
      "source": [
        "zcritical=(st.norm.ppf(alpha))"
      ],
      "metadata": {
        "id": "RerGxkxWBL9P"
      },
      "execution_count": null,
      "outputs": []
    }
  ]
}