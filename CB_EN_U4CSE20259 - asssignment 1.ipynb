{
  "cells": [
    {
      "cell_type": "markdown",
      "metadata": {
        "id": "vidg0cZMC778"
      },
      "source": [
        "CB.EN.U4CSE20259"
      ]
    },
    {
      "cell_type": "code",
      "execution_count": null,
      "metadata": {
        "colab": {
          "base_uri": "https://localhost:8080/"
        },
        "id": "k9ZurSFCC2YW",
        "outputId": "0cc46f11-bb49-4024-ab39-a7cbe91e583b"
      },
      "outputs": [
        {
          "name": "stdout",
          "output_type": "stream",
          "text": [
            "('aman', '222', 777, 400.4)\n"
          ]
        }
      ],
      "source": [
        "#1\n",
        "list1=[\"aman\",\"222\",777,400.4]\n",
        "tup=tuple(list1)\n",
        "print(tup)"
      ]
    },
    {
      "cell_type": "code",
      "execution_count": null,
      "metadata": {
        "colab": {
          "base_uri": "https://localhost:8080/"
        },
        "id": "mAZUIuVxDcbg",
        "outputId": "a9e8c0b6-7bfc-4694-dbe8-ac6cb772aa6a"
      },
      "outputs": [
        {
          "name": "stdout",
          "output_type": "stream",
          "text": [
            "Roll no : CB.EN.U4CSE20201\n",
            "First Name : Abhinav\n",
            "Last Name : M\n",
            "DOB : 17/04/2002\n"
          ]
        }
      ],
      "source": [
        "#2\n",
        "info={'Roll no':'CB.EN.U4CSE20259','First Name':'Shriram','Last Name':'Arvinth','DOB':'09/11/2002'}\n",
        "for key,value in info.items():\n",
        "  print(key,':',value)"
      ]
    },
    {
      "cell_type": "code",
      "execution_count": null,
      "metadata": {
        "colab": {
          "base_uri": "https://localhost:8080/"
        },
        "id": "oce5JXFqElBD",
        "outputId": "4ac61ac7-bdc8-4b56-bc0f-abaa05984a48"
      },
      "outputs": [
        {
          "name": "stdout",
          "output_type": "stream",
          "text": [
            "[[44 47  0  3  3]\n",
            " [39  9 19 21 36]]\n"
          ]
        }
      ],
      "source": [
        "#3\n",
        "import numpy as np\n",
        "np.random.seed(0)\n",
        "arr=np.random.randint(0,50,size=(2,5))\n",
        "print(arr)"
      ]
    },
    {
      "cell_type": "code",
      "execution_count": null,
      "metadata": {
        "colab": {
          "base_uri": "https://localhost:8080/"
        },
        "id": "eJ2O3kAvFG4v",
        "outputId": "60a8eeb9-2f4c-4abc-ad08-dfdc5f6a0b7c"
      },
      "outputs": [
        {
          "name": "stdout",
          "output_type": "stream",
          "text": [
            "0.2975346065444723\n",
            "1234\n"
          ]
        }
      ],
      "source": [
        "#4\n",
        "x=np.random.uniform(0.0,1.0)\n",
        "print(x)\n",
        "print(abs(-1234))"
      ]
    },
    {
      "cell_type": "code",
      "execution_count": null,
      "metadata": {
        "colab": {
          "base_uri": "https://localhost:8080/"
        },
        "id": "ISvjqGmcG__7",
        "outputId": "33f1046e-8dec-4f2e-8ff8-28b384a1cea9"
      },
      "outputs": [
        {
          "name": "stdout",
          "output_type": "stream",
          "text": [
            "57\n"
          ]
        }
      ],
      "source": [
        "#5\n",
        "x=np.random.randint(20,91)\n",
        "print(x)"
      ]
    },
    {
      "cell_type": "code",
      "execution_count": null,
      "metadata": {
        "colab": {
          "base_uri": "https://localhost:8080/"
        },
        "id": "Ac78VGlxG_7K",
        "outputId": "2a46a8c0-8837-49de-b2f2-feada23f68f2"
      },
      "outputs": [
        {
          "name": "stdout",
          "output_type": "stream",
          "text": [
            "[11, 12, 13]\n",
            "After Shuffle : [11, 13, 12]\n",
            "14\n"
          ]
        }
      ],
      "source": [
        "#6\n",
        "def retlist(list1):\n",
        "  return list1[0:3]\n",
        "list1=[11,12,13,14,15]\n",
        "newlist=retlist(list1)\n",
        "print(newlist)\n",
        "np.random.shuffle(newlist)\n",
        "print(\"After Shuffle :\",newlist)\n",
        "print(np.random.choice(list1))"
      ]
    },
    {
      "cell_type": "code",
      "execution_count": null,
      "metadata": {
        "id": "tHKPW5GVKVJk"
      },
      "outputs": [],
      "source": [
        "#7\n"
      ]
    },
    {
      "cell_type": "code",
      "execution_count": null,
      "metadata": {
        "colab": {
          "base_uri": "https://localhost:8080/"
        },
        "id": "1aQKXh7eLW40",
        "outputId": "674c2ac7-4c05-465e-dbdf-703ca5937483"
      },
      "outputs": [
        {
          "name": "stdout",
          "output_type": "stream",
          "text": [
            "If case,x is positive\n",
            "Elif case,x is negetive\n",
            "Else case,x is zero\n",
            "-----------While loop-------------\n",
            "1\n",
            "2\n",
            "3\n",
            "4\n",
            "Continue when x =5\n",
            "6\n",
            "7\n",
            "8\n",
            "break when x=9\n",
            "-----------For loop---------------\n",
            "10\n",
            "11\n",
            "12\n",
            "13\n",
            "14\n",
            "Continue when i=15\n",
            "16\n",
            "17\n",
            "break when i=18\n"
          ]
        }
      ],
      "source": [
        "#8\n",
        "def check(x):\n",
        "  if x>0:\n",
        "    print(\"If case,x is positive\")\n",
        "  elif x<0:\n",
        "    print(\"Elif case,x is negetive\")\n",
        "  else:\n",
        "    print(\"Else case,x is zero\")\n",
        "check(5)\n",
        "check(-5)\n",
        "check(0)\n",
        "x=0\n",
        "print(\"-----------While loop-------------\")\n",
        "while(x<10):\n",
        "  x+=1\n",
        "  if x==5:\n",
        "    print(\"Continue when x =5\")\n",
        "    continue\n",
        "  if x==9:\n",
        "    print(\"break when x=9\")\n",
        "    break\n",
        "  print(x)\n",
        "print(\"-----------For loop---------------\")\n",
        "\n",
        "for i in range(10,20):\n",
        "  if i==15:\n",
        "    print(\"Continue when i=15\")\n",
        "    continue\n",
        "  if i==18:\n",
        "    print(\"break when i=18\")\n",
        "    break\n",
        "  print(i)"
      ]
    },
    {
      "cell_type": "code",
      "execution_count": null,
      "metadata": {
        "colab": {
          "base_uri": "https://localhost:8080/"
        },
        "id": "qXjpEOrSNJGI",
        "outputId": "b2e0eff2-4c5f-422f-91cf-489e44b261d1"
      },
      "outputs": [
        {
          "name": "stdout",
          "output_type": "stream",
          "text": [
            "The King is Dead, Long Live The King\n",
            "T\n",
            " Ki\n",
            " King is Dead, Long Live The King\n",
            "['The', 'King', 'is', 'Dead,', 'Long', 'Live', 'The', 'King']\n"
          ]
        }
      ],
      "source": [
        "#9\n",
        "string=\"The King is Dead, Long Live The King\"\n",
        "print(string)\n",
        "print(string[0])\n",
        "print(string[3:6])\n",
        "print(string[3:])\n",
        "print(string.split())"
      ]
    },
    {
      "cell_type": "code",
      "execution_count": null,
      "metadata": {
        "colab": {
          "base_uri": "https://localhost:8080/"
        },
        "id": "2IxOltZhVUzR",
        "outputId": "63cd2523-0339-4932-a626-3eb265734c19"
      },
      "outputs": [
        {
          "name": "stdout",
          "output_type": "stream",
          "text": [
            "The first and second element of arr 1 4\n"
          ]
        }
      ],
      "source": [
        "#10\n",
        "list2=[1,4,5,8]\n",
        "arr=np.array(list2)\n",
        "print(\"The first and second element of arr\",arr[0],arr[1])\n"
      ]
    },
    {
      "cell_type": "code",
      "execution_count": null,
      "metadata": {
        "colab": {
          "base_uri": "https://localhost:8080/"
        },
        "id": "vjVuzgyKWD3Y",
        "outputId": "fff0bc02-d0f1-45e5-e4e1-c35518a100d1"
      },
      "outputs": [
        {
          "name": "stdout",
          "output_type": "stream",
          "text": [
            "The 2D array :\n",
            "[[1. 2. 3.]\n",
            " [4. 5. 6.]]\n"
          ]
        }
      ],
      "source": [
        "#11\n",
        "twod=np.array([[1.,2.,3.],[4.,5.,6.]])\n",
        "print(\"The 2D array :\")\n",
        "print(twod)"
      ]
    },
    {
      "cell_type": "code",
      "execution_count": null,
      "metadata": {
        "colab": {
          "base_uri": "https://localhost:8080/"
        },
        "id": "H9hdykTQWDyR",
        "outputId": "0f0f2662-55ab-4a07-da48-003b3befae13"
      },
      "outputs": [
        {
          "name": "stdout",
          "output_type": "stream",
          "text": [
            "Second Row [4. 5. 6.]\n",
            "Second Col [2. 5.]\n",
            "Length of the array : 2\n"
          ]
        }
      ],
      "source": [
        "#12\n",
        "print(\"Second Row\",twod[1,:])\n",
        "print(\"Second Col\",twod[:,1])\n",
        "print(\"Length of the array :\",len(twod))"
      ]
    },
    {
      "cell_type": "code",
      "execution_count": null,
      "metadata": {
        "colab": {
          "base_uri": "https://localhost:8080/"
        },
        "id": "bQHDT0iGYDkO",
        "outputId": "bd6bc6eb-af8f-4cd8-cfaf-73b0205e8db1"
      },
      "outputs": [
        {
          "name": "stdout",
          "output_type": "stream",
          "text": [
            "1D array : [43 58 23 59  2 98 62 35 94 67]\n",
            "2D array :\n",
            " [[43 58]\n",
            " [23 59]\n",
            " [ 2 98]\n",
            " [62 35]\n",
            " [94 67]]\n",
            "Transpose :\n",
            " [[43 23  2 62 94]\n",
            " [58 59 98 35 67]]\n"
          ]
        }
      ],
      "source": [
        "#13\n",
        "list3=[]\n",
        "for i in range(10):\n",
        "  list3.append(np.random.randint(0,100))\n",
        "oned=np.array(list3)\n",
        "print(\"1D array :\",oned)\n",
        "twod=oned.reshape(5,2)\n",
        "print(\"2D array :\\n\",twod)\n",
        "print(\"Transpose :\\n\",twod.T)"
      ]
    },
    {
      "cell_type": "code",
      "execution_count": null,
      "metadata": {
        "colab": {
          "base_uri": "https://localhost:8080/"
        },
        "id": "j_YWid6iZidx",
        "outputId": "4407bcb5-b656-479c-9eed-3dad2ce600f6"
      },
      "outputs": [
        {
          "name": "stdout",
          "output_type": "stream",
          "text": [
            "[[1 2 3]\n",
            " [4 5 6]\n",
            " [7 8 9]]\n"
          ]
        }
      ],
      "source": [
        "#14\n",
        "l1=[1,2,3]\n",
        "l2=[4,5,6]\n",
        "l3=[7,8,9]\n",
        "newarr=np.array([l1,l2,l3])\n",
        "print(newarr)"
      ]
    },
    {
      "cell_type": "code",
      "execution_count": null,
      "metadata": {
        "colab": {
          "base_uri": "https://localhost:8080/"
        },
        "id": "QD2l-5ksbxCY",
        "outputId": "e7721f0d-c1cc-464e-fc64-86b8719452f9"
      },
      "outputs": [
        {
          "name": "stdout",
          "output_type": "stream",
          "text": [
            "[9 9 9]\n"
          ]
        }
      ],
      "source": [
        "#15\n",
        "arr=np.array([1,2,3])\n",
        "for i in range(len(arr)):\n",
        "  arr[i]=9\n",
        "print(arr)"
      ]
    },
    {
      "cell_type": "code",
      "execution_count": null,
      "metadata": {
        "colab": {
          "base_uri": "https://localhost:8080/"
        },
        "id": "bgY4hSv5dFf-",
        "outputId": "f3f5c66b-2ca0-450f-8b31-ec07c0553625"
      },
      "outputs": [
        {
          "name": "stdout",
          "output_type": "stream",
          "text": [
            "11\n"
          ]
        }
      ],
      "source": [
        "#16\n",
        "arr=np.array([2,4,5])\n",
        "sum=0\n",
        "for i in arr:\n",
        "  sum+=i\n",
        "print(sum)"
      ]
    },
    {
      "cell_type": "code",
      "execution_count": null,
      "metadata": {
        "colab": {
          "base_uri": "https://localhost:8080/"
        },
        "id": "OORs6PmsdQUB",
        "outputId": "eacfd3af-b935-4d97-d77a-7c7f2997bdab"
      },
      "outputs": [
        {
          "name": "stdout",
          "output_type": "stream",
          "text": [
            "427350\n"
          ]
        }
      ],
      "source": [
        "#17\n",
        "arr=np.array([77,74,75])\n",
        "prod=1\n",
        "for i in arr:\n",
        "  prod*=i\n",
        "print(prod)"
      ]
    },
    {
      "cell_type": "code",
      "execution_count": null,
      "metadata": {
        "colab": {
          "base_uri": "https://localhost:8080/"
        },
        "id": "2bQTTqQndeEB",
        "outputId": "2fab1e43-ada3-45ae-c020-23f14f879f98"
      },
      "outputs": [
        {
          "name": "stdout",
          "output_type": "stream",
          "text": [
            "Mean :  12.461538461538462\n",
            "Varaince :  367.32544378698225\n",
            "Max : 56\n",
            "Min :  1\n",
            "Argmin :  1\n",
            "Median : 2.0\n",
            "Argmax :  12\n",
            "Standard Deviation :  19.165736192147232\n"
          ]
        }
      ],
      "source": [
        "#18\n",
        "arr=np.array([2,1,9,1,2,22,1,1,4,55,6,2,56])\n",
        "print(\"Mean : \",np.mean(arr))\n",
        "print(\"Varaince : \",np.var(arr))\n",
        "print(\"Max :\",np.max(arr))\n",
        "print(\"Min : \",np.min(arr))\n",
        "print(\"Argmin : \",np.argmin(arr))\n",
        "print(\"Median :\",np.median(arr))\n",
        "print(\"Argmax : \",np.argmax(arr))\n",
        "print(\"Standard Deviation : \",np.std(arr))"
      ]
    },
    {
      "cell_type": "code",
      "execution_count": null,
      "metadata": {
        "colab": {
          "base_uri": "https://localhost:8080/"
        },
        "id": "NiVRkMcye46X",
        "outputId": "36fc3e04-f8e9-4d71-e8da-2c9593e27760"
      },
      "outputs": [
        {
          "name": "stdout",
          "output_type": "stream",
          "text": [
            "[1 4 5 7]\n"
          ]
        }
      ],
      "source": [
        "#19\n",
        "arr=np.array([1, 1, 7, 5, 5, 5, 4])\n",
        "uarr=np.array(np.unique(arr))\n",
        "uarr.sort()\n",
        "print(uarr)"
      ]
    },
    {
      "cell_type": "code",
      "execution_count": null,
      "metadata": {
        "colab": {
          "base_uri": "https://localhost:8080/"
        },
        "id": "0rFoJLQNfyht",
        "outputId": "4c07e0b9-aea4-4ea9-dcda-84e6ae99dca0"
      },
      "outputs": [
        {
          "name": "stdout",
          "output_type": "stream",
          "text": [
            "32\n"
          ]
        }
      ],
      "source": [
        "#20\n",
        "m1=np.array([1,2,3])\n",
        "m2=np.array([4,5,6])\n",
        "print(np.dot(m1,m2))"
      ]
    },
    {
      "cell_type": "code",
      "execution_count": null,
      "metadata": {
        "colab": {
          "base_uri": "https://localhost:8080/"
        },
        "id": "F8x-Dz57gPY5",
        "outputId": "e2d92660-586f-4302-c99a-9d1e034bc46b"
      },
      "outputs": [
        {
          "name": "stdout",
          "output_type": "stream",
          "text": [
            "Eigen value : [ 4.52079729 -7.52079729]\n",
            "Eigen Vector :\n",
            " [[ 0.97864042 -0.78338465]\n",
            " [ 0.20557951  0.6215372 ]]\n"
          ]
        }
      ],
      "source": [
        "#21\n",
        "#from numpy.linalg import eig\n",
        "a=np.array([[2,12],[2,-5]])\n",
        "val,vec=np.linalg.eig(a)\n",
        "print(\"Eigen value :\",val)\n",
        "print(\"Eigen Vector :\\n\",vec)"
      ]
    },
    {
      "cell_type": "code",
      "execution_count": null,
      "metadata": {
        "colab": {
          "base_uri": "https://localhost:8080/"
        },
        "id": "JGku38T0heU_",
        "outputId": "d010dd30-8e4d-43d6-b49b-2b73b1db172d"
      },
      "outputs": [
        {
          "name": "stdout",
          "output_type": "stream",
          "text": [
            "[[1.         0.15997968]\n",
            " [0.15997968 1.        ]]\n"
          ]
        }
      ],
      "source": [
        "#22\n",
        "a1=np.array([11,22,11,31])\n",
        "a2=np.array([25,33,31,28])\n",
        "corrcoef=np.corrcoef(a1,a2)\n",
        "print(corrcoef)"
      ]
    }
  ],
  "metadata": {
    "colab": {
      "collapsed_sections": [],
      "provenance": []
    },
    "kernelspec": {
      "display_name": "Python 3",
      "name": "python3"
    },
    "language_info": {
      "name": "python"
    }
  },
  "nbformat": 4,
  "nbformat_minor": 0
}
